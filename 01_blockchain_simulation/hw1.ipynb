{
 "cells": [
  {
   "cell_type": "markdown",
   "metadata": {},
   "source": [
    "# Build a Blockchain! - Blockchain Design Exercises"
   ]
  },
  {
   "cell_type": "markdown",
   "metadata": {},
   "source": [
    "## HW1 - Build a Blockchain in Python\n",
    "\n",
    "#### Getting Started\n",
    "\n",
    "CS 198-077 Spring 2020 \n",
    "HW1-Build a Blockchain in Python\n",
    "\n",
    "Created by Omkar Shanbhag, Updated by Simon Guo\n",
    "\n",
    "This notebook is meant to be a short introduction to Blockchain implementations, aimed at helping us take the topics we learn about in fundamentals, and seeing how they translate to code. \n",
    "\n",
    "In this notebook we will implement various different aspects of Blockchain technology that we understand including: \n",
    "\n",
    "- The Blockchain Data Structure using OOP \n",
    "- A proof of work simulation \n",
    "- Understanding of the concept of difficulty of finding the next block hash \n",
    "- A simulation of multiple miners with varying computational powers \n",
    "- A bit of data analytics to see if what we've implemented makes sense "
   ]
  },
  {
   "cell_type": "code",
   "execution_count": 2,
   "metadata": {},
   "outputs": [],
   "source": [
    "#Import statements\n",
    "import hashlib as hasher \n",
    "import random as rand\n",
    "import time \n",
    "import datetime as date\n",
    "import ipyparallel as ipp\n",
    "import numpy as np\n",
    "import matplotlib.pyplot as plt"
   ]
  },
  {
   "cell_type": "markdown",
   "metadata": {},
   "source": [
    "# Blockchain Data Structure Design"
   ]
  },
  {
   "cell_type": "markdown",
   "metadata": {},
   "source": [
    "In this section we will define the class \"Block\" and create an init function that creates a new block given some parameters, as well as a function hash_block, that computes the hash of this block based on its class variables. \n",
    "\n",
    "The init function is implemented for you below and creates a block with the following specifications \n",
    "- Index --> the index of the block on the chain (zero indexed)\n",
    "- Timestamp --> time that the block was added on to the chain\n",
    "- data --> The data the block contains (Usually points to root of merkel tree, but we can fill it with whatever for this)\n",
    "- previous_hash --> The hash value of the previous block \n",
    "- hash --> hash of this block computed using the hash_block function\n",
    "- nonce --> the variable value that we change to alter the hash output (Default value = 0, irrelevant in this section)\n",
    "\n",
    "****QUESTION #1: Implement hash_block()****\n",
    "\n",
    "We need to implement the hash_block() which computes the hash value of this block based on how we initialize it. This function takes in no parameters. \n",
    "\n",
    "Desired Functionality:\n",
    "- Concatenate string representations of all the class variables \n",
    "- Computes the SHA256 hash of this concatenation \n",
    "\n",
    "-- HINTS --\n",
    "\n",
    "- use the first import statement!!! \n",
    "- initialize a new hasher\n",
    "- Look into the following words \n",
    "    - utf-8 encoding \n",
    "    - .update() function \n",
    "    - .hexdigest() function\n",
    "    - In order for the test function below to work properly, create the string concatenation in the following order with no spaces or any other characters in between \n",
    "       - index\n",
    "       - timestamp\n",
    "       - data\n",
    "       - previous block hash\n",
    "       - nonce\n",
    "     - If you want to do it another order that incorporates everything thats totally fine, but test function wont work!"
   ]
  },
  {
   "cell_type": "code",
   "execution_count": 28,
   "metadata": {},
   "outputs": [],
   "source": [
    "class Block:\n",
    "    def __init__(self, index, timestamp, data, previous_hash, nonce=0):\n",
    "        self.index = index\n",
    "        self.timestamp = timestamp\n",
    "        self.data = data\n",
    "        self.nonce = nonce #set to zero as default not applicable in first section \n",
    "        self.previous_hash = previous_hash\n",
    "        self.hash = self.hash_block()\n",
    "\n",
    "    def hash_block(self):\n",
    "        #Your code for QUESTION 1 Here \n",
    "        return hasher.sha256((str(self.index)+str(self.timestamp)+str(self.data)+str(self.previous_hash)+str(self.nonce)).encode()).hexdigest()\n"
   ]
  },
  {
   "cell_type": "markdown",
   "metadata": {},
   "source": [
    "**TEST YOUR QUESTION 1 CODE HERE**\n",
    "\n",
    "Run the block of code below"
   ]
  },
  {
   "cell_type": "code",
   "execution_count": 29,
   "metadata": {},
   "outputs": [
    {
     "name": "stdout",
     "output_type": "stream",
     "text": [
      "PASSED!!! Move on to next Question\n"
     ]
    }
   ],
   "source": [
    "def test_question_1(index, time, data, previous_hash):\n",
    "    new_block = Block(index, time, data, previous_hash)\n",
    "#     print(new_block.hash)\n",
    "    check_string = '2def27922fc1c67254a9cdb0c660b91abf9b135ad38fc13c7c77007448b824a0'\n",
    "    print_statement = \"PASSED!!! Move on to next Question\" if str(new_block.hash) == check_string else \"FAILED!!! Try Again\"\n",
    "    print(print_statement)\n",
    "    \n",
    "time = '2019-10-17 00:37:35.256774'\n",
    "data = 'Machine Learning Blockchain AI'\n",
    "previous_hash = '6ffd1464f68ef4aeb385d399244efa19293ba5c842c464a82c02f8256ef71428'\n",
    "index = 0\n",
    "    \n",
    "test_question_1(index, time, data, previous_hash)"
   ]
  },
  {
   "cell_type": "markdown",
   "metadata": {},
   "source": [
    "**Functions for Building the Chain**\n",
    "\n",
    "Now that we have our class Block completed, lets figure out how to make a chain out of them. For a chain, we need to first have a function that creates a genesis block, which serves as the first block of our chain, and then create the function next_block() which builds a new block on top of a given block.\n",
    "\n",
    "create_genesis_block() has been implemented for you. It creates a block with the following specifications. \n",
    "- index = 0\n",
    "- timestamp = Now (whenever the function is being called) \n",
    "- data = \"Genesis Block\"\n",
    "- previous_hash = \"0\"\n",
    "\n",
    "**QUESTION #2: Implement next_block()**\n",
    "\n",
    "We need to implement the function next_block() which takes in 1 parameter:\n",
    "- Last_block = an instance of class Block that is the block that we're building our next block on top of \n",
    "- nonce = Dont do anything with this right now - just pass it in to the Block that you create using the default \n",
    "\n",
    "We want to implement the function so that it returns a new instance of the class Block with the following specifications\n",
    "- index = index of last_block + 1\n",
    "- timestamp = Now (whenever the function is being called)\n",
    "- data = \"Hey! I'm block {index}\"  (for example block w/ index 5 would have data: \"Hey! I'm block 5\")\n",
    "- previous_hash = hash of last_block"
   ]
  },
  {
   "cell_type": "code",
   "execution_count": 35,
   "metadata": {},
   "outputs": [],
   "source": [
    "#Creates the first block with current time and generic data\n",
    "def create_genesis_block():\n",
    "    # Manually construct a block with\n",
    "    # index zero and arbitrary previous hash\n",
    "    return Block(0, date.datetime.now(), \"Genesis Block\", \"0\")\n",
    "\n",
    "#Function that creates the next block, given the last block on the chain you want to mine on\n",
    "def next_block(last_block, nonce=0):\n",
    "    #Your code for QUESTION 2 here\n",
    "    return Block(last_block.index+1,date.datetime.now(),f\"Hey! I'm block {last_block.index+1}\",last_block.hash,nonce)\n",
    "    "
   ]
  },
  {
   "cell_type": "markdown",
   "metadata": {},
   "source": [
    "**TEST YOUR QUESTION 2 CODE HERE**\n",
    "\n",
    "Run the block of code below"
   ]
  },
  {
   "cell_type": "code",
   "execution_count": 36,
   "metadata": {},
   "outputs": [
    {
     "name": "stdout",
     "output_type": "stream",
     "text": [
      "PASSED!!! Move on to next part\n"
     ]
    }
   ],
   "source": [
    "def test_question_2(genesis_block):\n",
    "    block_1 = next_block(genesis_block)\n",
    "    if block_1.index == 1 and block_1.data == \"Hey! I'm block 1\" and block_1.previous_hash == genesis_block.hash and str(type(block_1.timestamp)) == \"<class 'datetime.datetime'>\":\n",
    "        print(\"PASSED!!! Move on to next part\" )\n",
    "    else:\n",
    "        print(\"FAILED!!! Try again :(\")\n",
    "    \n",
    "\n",
    "genesis_block = create_genesis_block()\n",
    "test_question_2(genesis_block)"
   ]
  },
  {
   "cell_type": "markdown",
   "metadata": {},
   "source": [
    "**Spinning up a Chain**\n",
    "\n",
    "Now that we've created the data structure as well as the functions needed to create the chain, lets see how spinning up an actual instance of this would work. \n",
    "\n",
    "Below we initialize three different variables \n",
    "- blockchain - this is a python list which we initialize with one block inside (the genesis block) \n",
    "- previous_block - this points to our genesis block (since it references the first element in blockchain)\n",
    "- num_blocks - this specifies the number of additional blocks we want to add to our chain \n",
    "\n",
    "**QUESTION 3 complete_chain()**\n",
    "\n",
    "We want to complete the implementation of the function complete_chain(). This function takes in three inputs, which correspond to the initializations that we made. It returns nothing, however by the time we are done running it, the list 'blockchain' that we initialized earlier has been turned into an array of length num_blocks + 1 in which each element is an instance of class Block and each element's self.previous_hash == the previous element's self.hash. Therefore we have created our own mini blockchain!! \n",
    "\n",
    "The for loop and the print statements of complete_chain have been implemented for you, you need to add the statements that ***create a new block on top of previous_block, add it to the block chain, and edit previous block so that the for loop can continue correctly*** \n",
    "\n",
    "****HINT **** --> Literally just do all the things listed in the section immediately above in order \n",
    "\n",
    "If it works out, you should get the same number of print statements as num_blocks"
   ]
  },
  {
   "cell_type": "code",
   "execution_count": 33,
   "metadata": {},
   "outputs": [
    {
     "name": "stdout",
     "output_type": "stream",
     "text": [
      "Block #1 has been added to the blockchain!\n",
      "Hash: 557a5609e50ba964793f21bc4009d666b37ccfd1bb0b26745b6b5f710305ea02\n",
      "\n",
      "Block #2 has been added to the blockchain!\n",
      "Hash: 96c87b6d4d7281a6f08dbe4ef394bf44c0ba3b6d33cb8c2fc010f053a0e45735\n",
      "\n",
      "Block #3 has been added to the blockchain!\n",
      "Hash: 170c89b9fcc37ab85bd99363ef8bd9a721d8f11ccfe5b349aa85b24e14fc0342\n",
      "\n",
      "Block #4 has been added to the blockchain!\n",
      "Hash: 89f3bf3677c32c9ed60e8c5d573dfb25dfa9afda9aeb1f62f2a17c123cc73077\n",
      "\n",
      "Block #5 has been added to the blockchain!\n",
      "Hash: 0388329cc9364f1997fab9e61d844b095070a62a5ce7a888397070ca5aa37713\n",
      "\n",
      "Block #6 has been added to the blockchain!\n",
      "Hash: 5913fe862f89c9a288d15b0a9716e3425712ea57133dde8cf9fec83d66a39f1c\n",
      "\n",
      "Block #7 has been added to the blockchain!\n",
      "Hash: 1a2faea036d2e75df1e0f41ed5da8f76004f79d5ea9aae988b63d5b59df96fe2\n",
      "\n",
      "Block #8 has been added to the blockchain!\n",
      "Hash: 534046758b8e1dcf2e8a49928ee3affc8a7ae9db53f2452d0e2e0e0f7399c9ca\n",
      "\n",
      "Block #9 has been added to the blockchain!\n",
      "Hash: a1f2c29c1d0906b9c1bbb62e99a9b1d1f4ac91738fc23bdf4758915694481a41\n",
      "\n",
      "Block #10 has been added to the blockchain!\n",
      "Hash: d43a1b24aa39828a7f7e57ec402961fc2d4c1799c155f25fdbfdeeaa0e4a1d51\n",
      "\n",
      "Block #11 has been added to the blockchain!\n",
      "Hash: 3b3d2ed7355112b3126058cf49bfab6d7045b49904d9eaba0c4df84474149249\n",
      "\n",
      "Block #12 has been added to the blockchain!\n",
      "Hash: 7bb50b86d1eccec1897ca261242a15ab2b581ebeef0674d7557a23d81b9d44f6\n",
      "\n",
      "Block #13 has been added to the blockchain!\n",
      "Hash: 573dd77c65635a23c9719ca7b43b6a6b6d6f8efbf553c34d504ee82d07bd5f38\n",
      "\n",
      "Block #14 has been added to the blockchain!\n",
      "Hash: b21024d4883acee48bb40151178afe1991fa74e7b86324ae535e218be98263de\n",
      "\n",
      "Block #15 has been added to the blockchain!\n",
      "Hash: d4725e6d8a55e7dd405ef8da3edf222499df68d0ab43a46ccbe0e0cf620ce1db\n",
      "\n",
      "Block #16 has been added to the blockchain!\n",
      "Hash: ef0d9683be289e0b2aaf12a92026c9afe1fa4ed2acbbad16f0755453413307cb\n",
      "\n",
      "Block #17 has been added to the blockchain!\n",
      "Hash: 7181a9b3c2863271e14b78f757b1e763b7bd14c757ea6cf3ed480124d53555c2\n",
      "\n",
      "Block #18 has been added to the blockchain!\n",
      "Hash: eed2e1281e6ef3290c9f1e0346716dcac18b56d396e701bce4ecd6b073c21aa3\n",
      "\n",
      "Block #19 has been added to the blockchain!\n",
      "Hash: 9082b8cbbedd0715a52911113581d9261c38446be72c735de73c0e02289ceb92\n",
      "\n",
      "Block #20 has been added to the blockchain!\n",
      "Hash: 8fbc39fb4531e4d934f01cc51c2e3c61a36132cac4d3d3069a7af6168d4a87da\n",
      "\n"
     ]
    }
   ],
   "source": [
    "# Create the blockchain and add the genesis block\n",
    "blockchain = [create_genesis_block()]\n",
    "\n",
    "#Create our initial reference to previous block which points to the genesis block\n",
    "previous_block = blockchain[0]\n",
    "\n",
    "# How many blocks should we add to the chain after the genesis block\n",
    "num_blocks = 20\n",
    "\n",
    "def complete_chain(num_blocks, blockchain, previous_block):\n",
    "    # Add blocks to the chain\n",
    "    for i in range(0, num_blocks):\n",
    "        #Your code for QUESTION 3 Here \n",
    "        block_to_add = next_block(previous_block)\n",
    "        previous_block = block_to_add\n",
    "        blockchain.append(block_to_add)\n",
    "        \n",
    "        #Your code for QUESTION 3 ends Here\n",
    "        # Tell everyone about it!\n",
    "        print(\"Block #{} has been added to the blockchain!\".format(block_to_add.index))\n",
    "        print(\"Hash: {}\\n\".format(block_to_add.hash))\n",
    "\n",
    "complete_chain(num_blocks, blockchain, previous_block)"
   ]
  },
  {
   "cell_type": "markdown",
   "metadata": {},
   "source": [
    "**TEST YOUR QUESTION 3 CODE HERE**\n",
    "\n",
    "Run the block of code below"
   ]
  },
  {
   "cell_type": "code",
   "execution_count": 34,
   "metadata": {},
   "outputs": [
    {
     "name": "stdout",
     "output_type": "stream",
     "text": [
      "PASSED!!! Move on to the next Part\n"
     ]
    }
   ],
   "source": [
    "def test_question_3(blockchain, num_blocks):\n",
    "    correct = True\n",
    "    if len(blockchain) != num_blocks + 1:\n",
    "        correct = False\n",
    "    for i in range(len(blockchain)-1):\n",
    "        if blockchain[i + 1].previous_hash != blockchain[i].hash:\n",
    "            correct = False\n",
    "            break\n",
    "    print_statement = \"PASSED!!! Move on to the next Part\" if correct else \"FAILED!!! Try Again :(\"\n",
    "    print(print_statement)\n",
    "\n",
    "test_question_3(blockchain, num_blocks)"
   ]
  },
  {
   "cell_type": "markdown",
   "metadata": {},
   "source": [
    "# Proof of Work Simulation"
   ]
  },
  {
   "cell_type": "markdown",
   "metadata": {},
   "source": [
    "In this section we will be doing a simulation of the proof-of-work consensus mechanism that the Bitcoin Blockchain (among others) uses. Let us define some of the concepts that we will be dealing with in this section. \n",
    "\n",
    "**The Nonce** --> Randomly generated value that we add to our concatenation of our block to add variance to our hashes\n",
    "\n",
    "**Difficulty** --> Specified by the network (in theory, here it is specified by us). Defines the number of hashes that are valid out of all possible values. Higher difficulty indicates a lower number of valid hashes. \n",
    "\n",
    "**QUESTION 4: generate_nonce(), generate_difficulty_bound(), find_next_block()**\n",
    "\n",
    "**Part 1 - Description** \n",
    "\n",
    "The functions **generate_nonce()** and **generate_difficulty_bound()** have been implemented below for you. The first part of this question involves reading through, them understanding them completely, and writing a quick 1 - 2 line summary of what they are supposed to do and how they are implemented (write it in the space given, 2 cells below).\n",
    "\n",
    "**Part 2 - Implementation**\n",
    "\n",
    "The second part of this question is to complete the implementation of find_next_block(). This function's purpose is to try different blocks with the same data, index etc. but different nonces that satisfy the difficulty metric specified. The difficulty bound has already been generated for you and the first block has been created. You have to complete the implementation so that: \n",
    "- You find a nonce such that the hash of the block is less than the difficulty bound. \n",
    "- All data from new block has to be the same (including the timestamp, for simplicity purposes) and the only thing changing is the nonce \n",
    "- For our learning purposes, increment the hashes_tried parameter appropriately everytime you try a hash so that we can see the number of hashes tried and how this correlates to our difficulty value. \n",
    "\n",
    "**HINTS**\n",
    "- How do you turn a hash string into its hex prepresentation that you can compare???\n",
    "- if your implementation is working, you should notice something interesting about all the hashes of the blocks that you are getting when you run the code cell labeled \"Create Proof of work Blockchain\"**\n",
    "\n",
    "\n",
    "\n",
    "**you can test question 4 in the a few cells below this one, after running all the cells in between**"
   ]
  },
  {
   "cell_type": "code",
   "execution_count": 40,
   "metadata": {},
   "outputs": [],
   "source": [
    "import time\n",
    "\n",
    "def generate_nonce(length=20):\n",
    "    return ''.join([str(rand.randint(0, 9)) for i in range(length)])\n",
    "\n",
    "def generate_difficulty_bound(difficulty=1):\n",
    "    diff_str = \"\"\n",
    "    for i in range(difficulty):\n",
    "        diff_str += '0'\n",
    "    for i in range(64 - difficulty):\n",
    "        diff_str += 'F'\n",
    "    diff_str = \"0x\" + diff_str  # \"0x\" needs to be added at the front to specify that it is a hex representation\n",
    "    return(int(diff_str, 16))  # Specifies that we want to create an integer of base 16 (as opposed to the default base 10)\n",
    "\n",
    "#Given a previous block and a difficulty metric, finds a nonce that results in a lower hash value\n",
    "def find_next_block(last_block, difficulty, nonce_length):\n",
    "    difficulty_bound = generate_difficulty_bound(difficulty)\n",
    "    start = time.process_time() \n",
    "    new_block = next_block(last_block)\n",
    "    hashes_tried = 1 \n",
    "    #Your code for QUESTION 4 Starts here \n",
    "    while int(new_block.hash, 16) > difficulty_bound:\n",
    "        nonce = generate_nonce(nonce_length)\n",
    "        new_block = Block(new_block.index, new_block.timestamp, new_block.data, new_block.previous_hash, nonce)\n",
    "        hashes_tried += 1 \n",
    "    #Your code for QUESTION 4 Ends here \n",
    "    time_taken = time.process_time() - start\n",
    "    return(time_taken, hashes_tried, new_block)"
   ]
  },
  {
   "cell_type": "markdown",
   "metadata": {},
   "source": [
    "**QUESTION 4 Description Section**\n",
    "\n",
    "Describe the following functions: \n",
    "\n",
    "- generate_nonce():         ######Your Description Here######\n",
    "\n",
    "- generate_difficulty_bound():        ######Your Description Here######"
   ]
  },
  {
   "cell_type": "markdown",
   "metadata": {},
   "source": [
    "The cell below creates our proof of work blockchain in a similar way that we do in the earlier section. \n",
    "\n",
    "Some initializations:\n",
    "- blockchain_pow: Our new python list that signifies our proof of work blockchain, with the genesis block inside\n",
    "- previous_block: The first block to use as previous block to build upon\n",
    "- num_blocks: number of additional blocks to add to teh chain\n",
    "- difficulty: difficulty of the network \n",
    "- nonce_length: length of the randomly generated nonce"
   ]
  },
  {
   "cell_type": "markdown",
   "metadata": {},
   "source": [
    "### Create Proof of Work Blockchain "
   ]
  },
  {
   "cell_type": "code",
   "execution_count": 41,
   "metadata": {},
   "outputs": [
    {
     "name": "stdout",
     "output_type": "stream",
     "text": [
      "Block #1 has been added to the blockchain!\n",
      "9433 Hashes Tried!\n",
      "Time taken to find block: 0.15124514399999978\n",
      "Hash: 000f87c41b3da80a92b8639806eb0d9eb40432365b96c7808e9f335d00c7a682\n",
      "\n",
      "Block #2 has been added to the blockchain!\n",
      "429 Hashes Tried!\n",
      "Time taken to find block: 0.006704751000000009\n",
      "Hash: 0008e7ebc06289dddd619c7ee1439452bad6ddd94ceac22bc6a85c04161413a9\n",
      "\n",
      "Block #3 has been added to the blockchain!\n",
      "1718 Hashes Tried!\n",
      "Time taken to find block: 0.02730716299999969\n",
      "Hash: 000da17819d2c0516094965eaf38ae0942fee4eeffdcf1393b360bb6668c723b\n",
      "\n",
      "Block #4 has been added to the blockchain!\n",
      "4513 Hashes Tried!\n",
      "Time taken to find block: 0.0713394170000008\n",
      "Hash: 0000963a13e6e214cad676cdc153f086c7f4f2352b7b7217fbf4ed4996c892eb\n",
      "\n",
      "Block #5 has been added to the blockchain!\n",
      "4910 Hashes Tried!\n",
      "Time taken to find block: 0.07817700100000025\n",
      "Hash: 0005f6bd57c36b9e656aacc176df6e350a9b7230472bcf7b6fb874537d52f398\n",
      "\n",
      "Block #6 has been added to the blockchain!\n",
      "2935 Hashes Tried!\n",
      "Time taken to find block: 0.04778342300000027\n",
      "Hash: 00022719722d13ae9a4e70b9477dae7ea9545fb3338dbf0df924c55e4594230c\n",
      "\n",
      "Block #7 has been added to the blockchain!\n",
      "7351 Hashes Tried!\n",
      "Time taken to find block: 0.1190625160000005\n",
      "Hash: 0006585e46b78f313e806f1bd27d4a756f7d7894944d628806a57692ac90808e\n",
      "\n",
      "Block #8 has been added to the blockchain!\n",
      "961 Hashes Tried!\n",
      "Time taken to find block: 0.01580469100000048\n",
      "Hash: 000db4545a2d4683e67795c5313badd4c8aedcddd503078d96df2bc554d8b21d\n",
      "\n",
      "Block #9 has been added to the blockchain!\n",
      "946 Hashes Tried!\n",
      "Time taken to find block: 0.0153436659999997\n",
      "Hash: 000bb4a2a7b4578789daedb5c69b548e24ca102a56d0caaeab9ba9149b006665\n",
      "\n",
      "Block #10 has been added to the blockchain!\n",
      "521 Hashes Tried!\n",
      "Time taken to find block: 0.008696685000000315\n",
      "Hash: 0007aaaa2fc5b2b98173956add35507166fe0ffaca2add6b612586d146fb5ec3\n",
      "\n",
      "Block #11 has been added to the blockchain!\n",
      "108 Hashes Tried!\n",
      "Time taken to find block: 0.0017709229999995912\n",
      "Hash: 000075f914f71732ae0135899eebd1b0dbebf88f347e3be2700fdd64fc9f5291\n",
      "\n",
      "Block #12 has been added to the blockchain!\n",
      "12502 Hashes Tried!\n",
      "Time taken to find block: 0.19477636399999998\n",
      "Hash: 00012dc45b39c5b66c2d32fe3ba7ffc12dab3b359c68d3752d1b38c2b4b753d0\n",
      "\n",
      "Block #13 has been added to the blockchain!\n",
      "1609 Hashes Tried!\n",
      "Time taken to find block: 0.024057773000000005\n",
      "Hash: 0003d47bdff8207962b99ad7c6264b4e2b1ca61826fcdda95a6fb9b6c70c46db\n",
      "\n",
      "Block #14 has been added to the blockchain!\n",
      "1063 Hashes Tried!\n",
      "Time taken to find block: 0.01598346000000017\n",
      "Hash: 0000d96b44d0085ca07f4874325c65750cb2fb165313214c88e20c39d03a9f5c\n",
      "\n",
      "Block #15 has been added to the blockchain!\n",
      "1414 Hashes Tried!\n",
      "Time taken to find block: 0.021444634999999934\n",
      "Hash: 0006e3ca541773818bc82d071d24c3920278b2c66addf6d33b304b892d60469c\n",
      "\n",
      "Block #16 has been added to the blockchain!\n",
      "453 Hashes Tried!\n",
      "Time taken to find block: 0.0070342940000003296\n",
      "Hash: 00063461eaca15f2a64f13b3bfb9c7ec2d1a546ffd4b9ec9131c6a1e901711ac\n",
      "\n",
      "Block #17 has been added to the blockchain!\n",
      "6204 Hashes Tried!\n",
      "Time taken to find block: 0.0933334910000001\n",
      "Hash: 000fc952864fd0dd1201bd042dc2d8391ca93d5cf0c6c5039b1a2adf6ee8b891\n",
      "\n",
      "Block #18 has been added to the blockchain!\n",
      "429 Hashes Tried!\n",
      "Time taken to find block: 0.006943242000000183\n",
      "Hash: 000812fe7704a521cc7817318f22a1c3c052bc0d3aaa458a5457f8ec2b20df43\n",
      "\n",
      "Block #19 has been added to the blockchain!\n",
      "7038 Hashes Tried!\n",
      "Time taken to find block: 0.10944718000000009\n",
      "Hash: 000c630d2af2de6adb490fea5a24c677c6c933309b69d4118c92feef508a0a9d\n",
      "\n",
      "Block #20 has been added to the blockchain!\n",
      "597 Hashes Tried!\n",
      "Time taken to find block: 0.010129048000000473\n",
      "Hash: 000f8c6f921617d567fd40a1b8885be39a7ccc894e54249f6151532c3af7d078\n",
      "\n"
     ]
    }
   ],
   "source": [
    "# Create the blockchain and add the genesis block\n",
    "blockchain_pow = [create_genesis_block()]\n",
    "\n",
    "#Create our initial reference to previous block which points to the genesis block\n",
    "previous_block = blockchain_pow[0]\n",
    "\n",
    "# How many blocks should we add to the chain after genesis block\n",
    "num_blocks = 20\n",
    "\n",
    "#magnitude of difficulty of hash - number of zeroes that must be in the beginning of the hash\n",
    "difficulty = 3\n",
    "\n",
    "#length of nonce that will be generated and added\n",
    "nonce_length = 20\n",
    "\n",
    "# Add blocks to the chain based on difficulty with nonces of length nonce_length\n",
    "def create_pow_blockchain(num_blocks, difficulty, blockchain_pow, previous_block, nonce_length, print_data=1):\n",
    "    hash_array = []\n",
    "    time_array = []\n",
    "    for i in range(0, num_blocks):\n",
    "        time_taken, hashes_tried, block_to_add = find_next_block(previous_block, difficulty, nonce_length)\n",
    "        blockchain_pow.append(block_to_add)\n",
    "        previous_block = block_to_add\n",
    "        hash_array.append(hashes_tried)\n",
    "        time_array.append(time_taken)\n",
    "        # Tell everyone about it!\n",
    "        if print_data:\n",
    "            print(\"Block #{} has been added to the blockchain!\".format(block_to_add.index))\n",
    "            print(\"{} Hashes Tried!\".format(hashes_tried))\n",
    "            print(\"Time taken to find block: {}\".format(time_taken))\n",
    "            print(\"Hash: {}\\n\".format(block_to_add.hash))\n",
    "    return(hash_array, time_array)\n",
    "\n",
    "hash_array, time_array = create_pow_blockchain(num_blocks, difficulty, blockchain_pow, previous_block, nonce_length)"
   ]
  },
  {
   "cell_type": "markdown",
   "metadata": {},
   "source": [
    "**TEST YOUR QUESTION 4 CODE HERE**\n",
    "\n",
    "Run the block of code below"
   ]
  },
  {
   "cell_type": "code",
   "execution_count": 42,
   "metadata": {},
   "outputs": [
    {
     "name": "stdout",
     "output_type": "stream",
     "text": [
      "PASSED!!! Move on to the next Part\n"
     ]
    }
   ],
   "source": [
    "def test_question_4(blockchain_pow, num_blocks):\n",
    "    correct = True\n",
    "    bound = generate_difficulty_bound(difficulty)\n",
    "    if len(blockchain_pow) != num_blocks + 1:\n",
    "        correct = False\n",
    "    for i in range(len(blockchain_pow) - 1):\n",
    "        if blockchain_pow[i + 1].previous_hash != blockchain_pow[i].hash:\n",
    "            correct = False\n",
    "            break\n",
    "        if int(blockchain_pow[i + 1].hash, 16) > bound:\n",
    "            correct = False\n",
    "            break\n",
    "    print_statement = \"PASSED!!! Move on to the next Part\" if correct else \"FAILED!!! Try Again :(\"\n",
    "    print(print_statement)\n",
    "            \n",
    "test_question_4(blockchain_pow, num_blocks)"
   ]
  },
  {
   "cell_type": "markdown",
   "metadata": {},
   "source": [
    "Once you have passed the above test case, you can do things like play around with the difficulties and nonce lengths and seeing that happens "
   ]
  },
  {
   "cell_type": "markdown",
   "metadata": {},
   "source": [
    "# Note: The sections below are optional but super cool!"
   ]
  },
  {
   "cell_type": "markdown",
   "metadata": {},
   "source": [
    "# Distributed Network + Compute Power Simulation"
   ]
  },
  {
   "cell_type": "markdown",
   "metadata": {},
   "source": [
    "In this section, instead of simulating a single node that carries out all the proof of work calculations, we will create a bunch of different nodes that will all compete to find different blocks. These nodes will all have different compute powers that we will be able to specify. Below we will define the MinerNodeNaive class which has an init function to create an instance, as well as a try_hash function that allows it to try a hash and see if it works. "
   ]
  },
  {
   "cell_type": "code",
   "execution_count": 43,
   "metadata": {},
   "outputs": [],
   "source": [
    "#Naive miner class that races with other miners to see who can get a certain number of blocks first \n",
    "class MinerNodeNaive: \n",
    "    def __init__(self, name, compute):\n",
    "        self.name = name \n",
    "        self.compute = compute\n",
    "    \n",
    "    def try_hash(self, diff_value, chain):\n",
    "        last_block = chain[-1]\n",
    "        difficulty = generate_difficulty_bound(diff_value)\n",
    "        date_now = date.datetime.now()\n",
    "        this_index = last_block.index + 1\n",
    "        this_timestamp = date_now\n",
    "        this_data = \"Hey! I'm block \" + str(this_index)\n",
    "        this_hash = last_block.hash\n",
    "        new_block = Block(this_index, this_timestamp, this_data, this_hash)\n",
    "        if int(new_block.hash, 16) < difficulty:\n",
    "            chain.append(new_block)\n",
    "            # Tell everyone about it!\n",
    "            print(\"Block #{} has been added to the blockchain!\".format(new_block.index))\n",
    "            print(\"Block found by: {}\".format(self.name))\n",
    "            print(\"Hash: {}\\n\".format(new_block.hash))\n",
    "        "
   ]
  },
  {
   "cell_type": "markdown",
   "metadata": {},
   "source": [
    "**Question #5: Describe the Following Cells**\n",
    "\n",
    "In the next 4 cells I try to simulate a bunch of different miners with different compute powers. However this isn't completely indicative of how a real system works, and is limited by what I had to work with. Read through the code, and run all of the cells and explain what is happening in a paragrpah. Also explain how this is different from real world vanilla proof of work systems and how this simulation isn't completely accurate of what's actually happening while nodes race to find the next block. There is a cell at the bottom where you can enter your description.  "
   ]
  },
  {
   "cell_type": "code",
   "execution_count": 44,
   "metadata": {},
   "outputs": [],
   "source": [
    "#Initialize multiple miners on the network \n",
    "berkeley_Miner = MinerNodeNaive(\"Berkeley Miner\", 10)\n",
    "stanford_Miner = MinerNodeNaive(\"Stanford Miner\", 5)\n",
    "MIT_Miner = MinerNodeNaive(\"MIT Miner\", 2)\n",
    "UCLA_Miner = MinerNodeNaive(\"UCLA Miner\", 1)\n",
    "\n",
    "miner_array = [berkeley_Miner, stanford_Miner, MIT_Miner, UCLA_Miner]"
   ]
  },
  {
   "cell_type": "code",
   "execution_count": 45,
   "metadata": {},
   "outputs": [],
   "source": [
    "def create_compute_simulation(miner_array):\n",
    "    compute_array = []\n",
    "    for miner in miner_array:\n",
    "        for i in range(miner.compute):\n",
    "            compute_array.append(miner.name)\n",
    "    return(compute_array)\n",
    "\n",
    "compute_simulation_array = create_compute_simulation(miner_array)\n",
    "rand.shuffle(compute_simulation_array)"
   ]
  },
  {
   "cell_type": "code",
   "execution_count": 46,
   "metadata": {},
   "outputs": [],
   "source": [
    "chain_length = 20\n",
    "blockchain_distributed = [create_genesis_block()]\n",
    "genesis_block_dist = blockchain_distributed[0]\n",
    "chain_difficulty = [rand.randint(2,4) for i in range(chain_length)]"
   ]
  },
  {
   "cell_type": "code",
   "execution_count": 47,
   "metadata": {},
   "outputs": [
    {
     "data": {
      "text/plain": [
       "[3, 3, 2, 4, 3, 3, 2, 3, 2, 4, 4, 4, 2, 2, 4, 3, 4, 4, 2, 3]"
      ]
     },
     "execution_count": 47,
     "metadata": {},
     "output_type": "execute_result"
    }
   ],
   "source": [
    "chain_difficulty"
   ]
  },
  {
   "cell_type": "code",
   "execution_count": 48,
   "metadata": {},
   "outputs": [
    {
     "name": "stdout",
     "output_type": "stream",
     "text": [
      "Block #1 has been added to the blockchain!\n",
      "Block found by: Berkeley Miner\n",
      "Hash: 000f8d1cdafdb40022bf10c21693da9cd831e478f4bbca7625bf3e003782e754\n",
      "\n",
      "Block #2 has been added to the blockchain!\n",
      "Block found by: Stanford Miner\n",
      "Hash: 000fd8433f522dc9b3600d2b96d13e00bd9f0f27d493ae80942e6942372efb7b\n",
      "\n",
      "Block #3 has been added to the blockchain!\n",
      "Block found by: Stanford Miner\n",
      "Hash: 0004d191ae96fcc7ecc67df8db0fa5e35035357a4e9a92bb6beed9f3527cb02e\n",
      "\n",
      "Block #4 has been added to the blockchain!\n",
      "Block found by: MIT Miner\n",
      "Hash: 0000159495a31ab97a2e5e96077956c4622b63f89bfeadba905e3da066b17991\n",
      "\n",
      "Block #5 has been added to the blockchain!\n",
      "Block found by: Berkeley Miner\n",
      "Hash: 000572238fd7d5bcd7135e837dd15952e60197bfb2182fff2482d6084a1cb4d5\n",
      "\n",
      "Block #6 has been added to the blockchain!\n",
      "Block found by: MIT Miner\n",
      "Hash: 000072c951446be2a36d4867b52d9797d137f226226206c12851e7654905594b\n",
      "\n",
      "Block #7 has been added to the blockchain!\n",
      "Block found by: Stanford Miner\n",
      "Hash: 00c5d32000fcb707b23d822a7a6dbcd5c2e33ab00d9adf18d27221f453c1ff93\n",
      "\n",
      "Block #8 has been added to the blockchain!\n",
      "Block found by: Stanford Miner\n",
      "Hash: 000e6e0a84215785fd1723683c8e53ddeea73a9cfc6e3cd007ae828a04fe8221\n",
      "\n",
      "Block #9 has been added to the blockchain!\n",
      "Block found by: Berkeley Miner\n",
      "Hash: 004d1bb880d2d1e0265f368e766bccd0e97942f7537db140691b3b6b84bbf3c3\n",
      "\n",
      "Block #10 has been added to the blockchain!\n",
      "Block found by: Berkeley Miner\n",
      "Hash: 0000d444218b1d496ddc77e91bf67b82b4f1b4d8ab4a6502d4d16a60ec3423c3\n",
      "\n",
      "Block #11 has been added to the blockchain!\n",
      "Block found by: UCLA Miner\n",
      "Hash: 000069ceef4c1dd9ac3b808b487a62e45b2399787ca9be62c2f12ba3645fc2bd\n",
      "\n",
      "Block #12 has been added to the blockchain!\n",
      "Block found by: UCLA Miner\n",
      "Hash: 0000cbbcbe9d19815b6efdd5f1a0d350ac8fb2ec33a3b1b24b2d1074fc540577\n",
      "\n",
      "Block #13 has been added to the blockchain!\n",
      "Block found by: Stanford Miner\n",
      "Hash: 003e736bcf02430d659d3c4308862a2705a92e98b82ea50b70becb3f658fb575\n",
      "\n",
      "Block #14 has been added to the blockchain!\n",
      "Block found by: Berkeley Miner\n",
      "Hash: 006bc03bef0f0fd67d0af79cf36d2064bbfaaeee85844cbe965666f5cc0b7a5e\n",
      "\n",
      "Block #15 has been added to the blockchain!\n",
      "Block found by: Berkeley Miner\n",
      "Hash: 00002e6a97a9fd6e89f213b3d751667754ce9a9caf4acc2d5c9b149d26d000de\n",
      "\n",
      "Block #16 has been added to the blockchain!\n",
      "Block found by: Berkeley Miner\n",
      "Hash: 00050840f0860b98f6ded89d85dac249a3c089275d83c5cf6d5d7f588fb5022e\n",
      "\n",
      "Block #17 has been added to the blockchain!\n",
      "Block found by: Stanford Miner\n",
      "Hash: 00000abd523daafb342ebe57346f59ec9d1da8144cba23cd39c1c067778c0bb8\n",
      "\n",
      "Block #18 has been added to the blockchain!\n",
      "Block found by: Stanford Miner\n",
      "Hash: 0000df2c9ec4aa7d032bbfa898b3587e268c05bd3d4d2632ea732c92b5080557\n",
      "\n",
      "Block #19 has been added to the blockchain!\n",
      "Block found by: Berkeley Miner\n",
      "Hash: 009d11d628e07dcb2aa007025eee00b17c9e9beea5e5a870be1c42b85c1f61b7\n",
      "\n",
      "Block #20 has been added to the blockchain!\n",
      "Block found by: Berkeley Miner\n",
      "Hash: 0001036b03064a5fc61379c0cd2379a9d27b687e704670903e724ba0b24703eb\n",
      "\n"
     ]
    }
   ],
   "source": [
    "for i in range(len(chain_difficulty)): \n",
    "    while len(blockchain_distributed) < i + 2:\n",
    "        next_miner_str = rand.sample(compute_simulation_array, 1)[0] \n",
    "        next_miner = berkeley_Miner #random default (go bears)\n",
    "        for miner in miner_array:\n",
    "            if next_miner_str == miner.name:\n",
    "                next_miner = miner\n",
    "        next_miner.try_hash(chain_difficulty[i], blockchain_distributed)\n",
    "        "
   ]
  },
  {
   "cell_type": "markdown",
   "metadata": {},
   "source": [
    "**Question 5 Description Here**\n",
    "\n",
    "- Description: **#####Your description here####**"
   ]
  },
  {
   "cell_type": "markdown",
   "metadata": {
    "collapsed": true
   },
   "source": [
    "# Blockchain Data Analytics"
   ]
  },
  {
   "cell_type": "markdown",
   "metadata": {
    "collapsed": true
   },
   "source": [
    "Here we will use data analytics to analyze the number of hashes we need to try before we find a valid hash, given a difficulty level. Look through the code briefly (in depth is not necessary), run all of the cells, and answer the question at the bottom. (difficulty level 3 takes a bit of time so dont be alarmed if this next cell takes a bit of time to run). "
   ]
  },
  {
   "cell_type": "code",
   "execution_count": 49,
   "metadata": {},
   "outputs": [
    {
     "name": "stdout",
     "output_type": "stream",
     "text": [
      "Difficulty Level: 1 complete\n",
      "Difficulty Level: 2 complete\n",
      "Difficulty Level: 3 complete\n",
      "Difficulty Level: 4 complete\n"
     ]
    }
   ],
   "source": [
    "blockchain = [create_genesis_block()]\n",
    "previous_block = blockchain[0]\n",
    "num_blocks = 10\n",
    "\n",
    "#3 different types of difficulty to analyze\n",
    "difficulty_0 = 1\n",
    "difficulty_1 = 2\n",
    "difficulty_2 = 3\n",
    "difficulty_3 = 4\n",
    "\n",
    "nonce_length = 20\n",
    "\n",
    "hash_array_0, time_array_0 = create_pow_blockchain(num_blocks, difficulty_0, blockchain, previous_block, nonce_length, 0)\n",
    "print(\"Difficulty Level: {} complete\".format(difficulty_0))\n",
    "hash_array_1, time_array_1 = create_pow_blockchain(num_blocks, difficulty_1, blockchain, previous_block, nonce_length, 0)\n",
    "print(\"Difficulty Level: {} complete\".format(difficulty_1))\n",
    "hash_array_2, time_array_2 = create_pow_blockchain(num_blocks, difficulty_2, blockchain, previous_block, nonce_length, 0)\n",
    "print(\"Difficulty Level: {} complete\".format(difficulty_2))\n",
    "hash_array_3, time_array_3 = create_pow_blockchain(num_blocks, difficulty_3, blockchain, previous_block, nonce_length, 0)\n",
    "print(\"Difficulty Level: {} complete\".format(difficulty_3))"
   ]
  },
  {
   "cell_type": "code",
   "execution_count": 50,
   "metadata": {},
   "outputs": [],
   "source": [
    "mean_arr_hash = [np.mean(hash_array_0), np.mean(hash_array_1), np.mean(hash_array_2), np.mean(hash_array_3)]\n",
    "mean_arr_time = [np.mean(time_array_0), np.mean(time_array_1), np.mean(time_array_2), np.mean(time_array_3)]"
   ]
  },
  {
   "cell_type": "code",
   "execution_count": 51,
   "metadata": {},
   "outputs": [
    {
     "data": {
      "image/png": "[encoded data removed]",
      "text/plain": [
       "<Figure size 432x288 with 1 Axes>"
      ]
     },
     "metadata": {
      "needs_background": "light"
     },
     "output_type": "display_data"
    }
   ],
   "source": [
    "plt.plot(mean_arr_hash)\n",
    "plt.show()"
   ]
  },
  {
   "cell_type": "code",
   "execution_count": 52,
   "metadata": {},
   "outputs": [
    {
     "data": {
      "image/png": "[encoded data removed]",
      "text/plain": [
       "<Figure size 432x288 with 1 Axes>"
      ]
     },
     "metadata": {
      "needs_background": "light"
     },
     "output_type": "display_data"
    }
   ],
   "source": [
    "plt.plot(mean_arr_time)\n",
    "plt.show()"
   ]
  },
  {
   "cell_type": "code",
   "execution_count": 53,
   "metadata": {},
   "outputs": [
    {
     "name": "stdout",
     "output_type": "stream",
     "text": [
      "Factor of difficulty increase from 1 to 2: 12.91358024691358\n",
      "Factor of difficulty increase from 2 to 3: 26.847036328871894\n",
      "Factor of difficulty increase from 3 to 4: 7.97968449540631\n"
     ]
    }
   ],
   "source": [
    "diff_factor_1 = np.mean(hash_array_1)/np.mean(hash_array_0)\n",
    "diff_factor_2 = np.mean(hash_array_2)/np.mean(hash_array_1)\n",
    "diff_factor_3 = np.mean(hash_array_3)/np.mean(hash_array_2)\n",
    "print(\"Factor of difficulty increase from 1 to 2: {}\".format(diff_factor_1))\n",
    "print(\"Factor of difficulty increase from 2 to 3: {}\".format(diff_factor_2))\n",
    "print(\"Factor of difficulty increase from 3 to 4: {}\".format(diff_factor_3))"
   ]
  },
  {
   "cell_type": "markdown",
   "metadata": {},
   "source": [
    "**Question 6: This one is simple**\n",
    "\n",
    "Look at the factor of difficulty increase from each level to the subsequent level, printed from the cell above.\n",
    "\n",
    "What whould the factor of difficulty increase be for each level: **Your answer Here**"
   ]
  },
  {
   "cell_type": "markdown",
   "metadata": {},
   "source": [
    "**Check Off**\n",
    "\n",
    "If you have filled out all the skeleton code and put down your answers for the questions, let any of the instructor know and we will check you off!\n",
    "\n",
    "If you cannot finish it this class, you have until next week's class to finish check off and earn points.\n"
   ]
  }
 ],
 "metadata": {
  "kernelspec": {
   "display_name": "Python 3",
   "language": "python",
   "name": "python3"
  },
  "language_info": {
   "codemirror_mode": {
    "name": "ipython",
    "version": 3
   },
   "file_extension": ".py",
   "mimetype": "text/x-python",
   "name": "python",
   "nbconvert_exporter": "python",
   "pygments_lexer": "ipython3",
   "version": "3.8.5"
  }
 },
 "nbformat": 4,
 "nbformat_minor": 2
}
